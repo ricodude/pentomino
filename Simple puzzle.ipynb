{
 "cells": [
  {
   "cell_type": "code",
   "execution_count": 1,
   "id": "86844890-2cb1-4826-9d51-23f98fbb7526",
   "metadata": {
    "ExecuteTime": {
     "end_time": "2024-02-27T22:25:19.943503Z",
     "start_time": "2024-02-27T22:25:19.588568Z"
    }
   },
   "outputs": [],
   "source": [
    "import pentomino.solve as solve"
   ]
  },
  {
   "cell_type": "code",
   "execution_count": 2,
   "id": "434378e8-3cb2-4962-8bdc-9833904c9362",
   "metadata": {
    "ExecuteTime": {
     "end_time": "2024-02-27T22:25:21.101365Z",
     "start_time": "2024-02-27T22:25:21.096638Z"
    }
   },
   "outputs": [],
   "source": [
    "xy_range = (5, 4)"
   ]
  },
  {
   "cell_type": "code",
   "execution_count": 3,
   "id": "58573dec-58bd-4f8d-8303-9955287943b5",
   "metadata": {
    "ExecuteTime": {
     "end_time": "2024-02-27T22:25:21.485788Z",
     "start_time": "2024-02-27T22:25:21.482596Z"
    }
   },
   "outputs": [],
   "source": [
    "filled_squares = []"
   ]
  },
  {
   "cell_type": "code",
   "execution_count": 4,
   "id": "51bf27f5-c4d7-421b-b84e-7920cd5ca770",
   "metadata": {
    "ExecuteTime": {
     "end_time": "2024-02-27T22:29:09.989096Z",
     "start_time": "2024-02-27T22:29:09.356200Z"
    }
   },
   "outputs": [
    {
     "name": "stdout",
     "output_type": "stream",
     "text": [
      "Tried everything\n",
      "CPU times: user 428 ms, sys: 3.25 ms, total: 431 ms\n",
      "Wall time: 147 ms\n"
     ]
    }
   ],
   "source": [
    "%%time\n",
    "solutions = solve.solve_puzzle(xy_range, filled_squares, solve.TILE_DEFS)"
   ]
  },
  {
   "cell_type": "code",
   "execution_count": 5,
   "id": "73112a00-9d20-49ad-a9aa-47f1f408a573",
   "metadata": {
    "ExecuteTime": {
     "end_time": "2024-02-27T22:29:09.992149Z",
     "start_time": "2024-02-27T22:29:09.987280Z"
    }
   },
   "outputs": [],
   "source": [
    "tile_orients = solve.tile_orientations(solve.TILE_DEFS, xy_range[0])"
   ]
  },
  {
   "cell_type": "code",
   "execution_count": 6,
   "id": "bad34238-e83a-4c91-ad5b-3df89b2bc107",
   "metadata": {
    "ExecuteTime": {
     "end_time": "2024-02-27T22:29:11.893430Z",
     "start_time": "2024-02-27T22:29:11.890983Z"
    }
   },
   "outputs": [
    {
     "name": "stdout",
     "output_type": "stream",
     "text": [
      "BDDGG\n",
      "BBDDG\n",
      "BBDGG\n",
      "AAAAA\n"
     ]
    }
   ],
   "source": [
    "solve.display_solution(solutions[0], tile_orients, xy_range)"
   ]
  },
  {
   "cell_type": "code",
   "execution_count": 7,
   "id": "866c204e-53ac-4f54-960c-f7e95f544a35",
   "metadata": {
    "ExecuteTime": {
     "end_time": "2024-02-27T22:29:13.137639Z",
     "start_time": "2024-02-27T22:29:13.134214Z"
    }
   },
   "outputs": [
    {
     "name": "stdout",
     "output_type": "stream",
     "text": [
      "BBLLK\n",
      "BBLKK\n",
      "BLLCK\n",
      "CCCCK\n"
     ]
    }
   ],
   "source": [
    "solve.display_solution(solutions[100], tile_orients, xy_range)"
   ]
  },
  {
   "cell_type": "code",
   "execution_count": 8,
   "id": "110b791e-56bf-4db3-a8f1-dc4450eba7bf",
   "metadata": {
    "ExecuteTime": {
     "end_time": "2024-02-27T22:29:14.366743Z",
     "start_time": "2024-02-27T22:29:14.363013Z"
    }
   },
   "outputs": [
    {
     "name": "stdout",
     "output_type": "stream",
     "text": [
      "BBBCC\n",
      "BBLHC\n",
      "LLLHC\n",
      "LHHHC\n"
     ]
    }
   ],
   "source": [
    "solve.display_solution(solutions[-1], tile_orients, xy_range)"
   ]
  },
  {
   "cell_type": "code",
   "execution_count": null,
   "id": "209e5694-e7a1-4316-a207-f2c3a78360f5",
   "metadata": {},
   "outputs": [],
   "source": []
  }
 ],
 "metadata": {
  "kernelspec": {
   "display_name": "Python 3 (ipykernel)",
   "language": "python",
   "name": "python3"
  },
  "language_info": {
   "codemirror_mode": {
    "name": "ipython",
    "version": 3
   },
   "file_extension": ".py",
   "mimetype": "text/x-python",
   "name": "python",
   "nbconvert_exporter": "python",
   "pygments_lexer": "ipython3",
   "version": "3.11.2"
  }
 },
 "nbformat": 4,
 "nbformat_minor": 5
}
