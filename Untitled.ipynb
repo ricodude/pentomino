{
 "cells": [
  {
   "cell_type": "code",
   "execution_count": 1,
   "id": "86844890-2cb1-4826-9d51-23f98fbb7526",
   "metadata": {
    "ExecuteTime": {
     "end_time": "2024-02-27T14:50:27.163658Z",
     "start_time": "2024-02-27T14:50:26.817318Z"
    }
   },
   "outputs": [],
   "source": [
    "import importlib\n",
    "\n",
    "import pentomino.solve as solve"
   ]
  },
  {
   "cell_type": "code",
   "execution_count": 20,
   "id": "ed74dd18-2209-4d22-af99-34edc02a15d9",
   "metadata": {
    "ExecuteTime": {
     "end_time": "2024-02-27T15:12:45.299067Z",
     "start_time": "2024-02-27T15:12:45.287546Z"
    }
   },
   "outputs": [
    {
     "data": {
      "text/plain": "<module 'pentomino.solve' from '/Users/richard/Developer/PythonProjects/pentomino/pentomino/solve.py'>"
     },
     "execution_count": 20,
     "metadata": {},
     "output_type": "execute_result"
    }
   ],
   "source": [
    "importlib.reload(solve)"
   ]
  },
  {
   "cell_type": "code",
   "execution_count": null,
   "id": "51bf27f5-c4d7-421b-b84e-7920cd5ca770",
   "metadata": {
    "is_executing": true,
    "ExecuteTime": {
     "start_time": "2024-02-27T15:12:48.610360Z"
    }
   },
   "outputs": [],
   "source": [
    "solve.solve_puzzle((8, 8), [(1, 2), (3, 4), (5, 7), (6, 7)], solve.TILE_DEFS)"
   ]
  },
  {
   "cell_type": "code",
   "execution_count": null,
   "id": "bbedcfc7-966a-4304-b109-ef9355f4d566",
   "metadata": {},
   "outputs": [],
   "source": []
  }
 ],
 "metadata": {
  "kernelspec": {
   "display_name": "Python 3 (ipykernel)",
   "language": "python",
   "name": "python3"
  },
  "language_info": {
   "codemirror_mode": {
    "name": "ipython",
    "version": 3
   },
   "file_extension": ".py",
   "mimetype": "text/x-python",
   "name": "python",
   "nbconvert_exporter": "python",
   "pygments_lexer": "ipython3",
   "version": "3.11.2"
  }
 },
 "nbformat": 4,
 "nbformat_minor": 5
}
