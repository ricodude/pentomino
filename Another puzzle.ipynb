{
 "cells": [
  {
   "cell_type": "code",
   "execution_count": 1,
   "id": "86844890-2cb1-4826-9d51-23f98fbb7526",
   "metadata": {
    "ExecuteTime": {
     "end_time": "2024-02-27T14:50:27.163658Z",
     "start_time": "2024-02-27T14:50:26.817318Z"
    }
   },
   "outputs": [],
   "source": [
    "import pentomino.solve as solve"
   ]
  },
  {
   "cell_type": "code",
   "execution_count": 2,
   "id": "434378e8-3cb2-4962-8bdc-9833904c9362",
   "metadata": {},
   "outputs": [],
   "source": [
    "xy_range = (3, 7)"
   ]
  },
  {
   "cell_type": "code",
   "execution_count": 3,
   "id": "58573dec-58bd-4f8d-8303-9955287943b5",
   "metadata": {},
   "outputs": [],
   "source": [
    "filled_squares = [(1, 2)]"
   ]
  },
  {
   "cell_type": "code",
   "execution_count": 4,
   "id": "51bf27f5-c4d7-421b-b84e-7920cd5ca770",
   "metadata": {
    "ExecuteTime": {
     "start_time": "2024-02-27T15:12:48.610360Z"
    },
    "is_executing": true
   },
   "outputs": [
    {
     "name": "stdout",
     "output_type": "stream",
     "text": [
      "Tried everything\n",
      "CPU times: user 34.2 ms, sys: 946 µs, total: 35.2 ms\n",
      "Wall time: 12.2 ms\n"
     ]
    }
   ],
   "source": [
    "%%time\n",
    "solutions = solve.solve_puzzle(xy_range, filled_squares, solve.TILE_DEFS)"
   ]
  },
  {
   "cell_type": "code",
   "execution_count": 5,
   "id": "73112a00-9d20-49ad-a9aa-47f1f408a573",
   "metadata": {},
   "outputs": [],
   "source": [
    "tile_orients = solve.tile_orientations(solve.TILE_DEFS, xy_range[0])"
   ]
  },
  {
   "cell_type": "code",
   "execution_count": 6,
   "id": "bad34238-e83a-4c91-ad5b-3df89b2bc107",
   "metadata": {},
   "outputs": [
    {
     "name": "stdout",
     "output_type": "stream",
     "text": [
      "ECC\n",
      "EEC\n",
      "AEC\n",
      "AEC\n",
      "A B\n",
      "ABB\n",
      "ABB\n"
     ]
    }
   ],
   "source": [
    "solve.display_solution(solutions[0], tile_orients, xy_range)"
   ]
  },
  {
   "cell_type": "code",
   "execution_count": 7,
   "id": "110b791e-56bf-4db3-a8f1-dc4450eba7bf",
   "metadata": {},
   "outputs": [
    {
     "name": "stdout",
     "output_type": "stream",
     "text": [
      "GGG\n",
      "GJG\n",
      "JJJ\n",
      "KJC\n",
      "K C\n",
      "KKC\n",
      "KCC\n"
     ]
    }
   ],
   "source": [
    "solve.display_solution(solutions[-1], tile_orients, xy_range)"
   ]
  },
  {
   "cell_type": "code",
   "execution_count": null,
   "id": "209e5694-e7a1-4316-a207-f2c3a78360f5",
   "metadata": {},
   "outputs": [],
   "source": []
  }
 ],
 "metadata": {
  "kernelspec": {
   "display_name": "Python 3 (ipykernel)",
   "language": "python",
   "name": "python3"
  },
  "language_info": {
   "codemirror_mode": {
    "name": "ipython",
    "version": 3
   },
   "file_extension": ".py",
   "mimetype": "text/x-python",
   "name": "python",
   "nbconvert_exporter": "python",
   "pygments_lexer": "ipython3",
   "version": "3.11.2"
  }
 },
 "nbformat": 4,
 "nbformat_minor": 5
}
