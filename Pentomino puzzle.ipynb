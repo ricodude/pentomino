{
 "cells": [
  {
   "cell_type": "code",
   "execution_count": 1,
   "id": "86844890-2cb1-4826-9d51-23f98fbb7526",
   "metadata": {
    "ExecuteTime": {
     "end_time": "2024-02-28T09:42:26.963443Z",
     "start_time": "2024-02-28T09:42:26.939654Z"
    }
   },
   "outputs": [],
   "source": [
    "import pentomino.solve as solve"
   ]
  },
  {
   "cell_type": "code",
   "execution_count": 2,
   "id": "434378e8-3cb2-4962-8bdc-9833904c9362",
   "metadata": {
    "ExecuteTime": {
     "end_time": "2024-02-28T09:42:27.804999Z",
     "start_time": "2024-02-28T09:42:27.800891Z"
    }
   },
   "outputs": [],
   "source": [
    "xy_range = (8, 8)"
   ]
  },
  {
   "cell_type": "code",
   "execution_count": 3,
   "id": "58573dec-58bd-4f8d-8303-9955287943b5",
   "metadata": {
    "ExecuteTime": {
     "end_time": "2024-02-28T09:42:30.573768Z",
     "start_time": "2024-02-28T09:42:30.566088Z"
    }
   },
   "outputs": [],
   "source": [
    "filled_squares = [(1, 2), (3, 4), (5, 7), (6, 7)]"
   ]
  },
  {
   "cell_type": "code",
   "execution_count": 4,
   "id": "51bf27f5-c4d7-421b-b84e-7920cd5ca770",
   "metadata": {
    "ExecuteTime": {
     "end_time": "2024-02-28T09:44:23.729237Z",
     "start_time": "2024-02-28T09:42:34.313912Z"
    }
   },
   "outputs": [
    {
     "name": "stdout",
     "output_type": "stream",
     "text": [
      "Tried everything\n",
      "CPU times: user 1min 36s, sys: 533 ms, total: 1min 36s\n",
      "Wall time: 1min 49s\n"
     ]
    }
   ],
   "source": [
    "%%time\n",
    "solutions = solve.solve_puzzle(xy_range, filled_squares, solve.TILE_DEFS)"
   ]
  },
  {
   "cell_type": "code",
   "execution_count": 6,
   "id": "73112a00-9d20-49ad-a9aa-47f1f408a573",
   "metadata": {
    "ExecuteTime": {
     "end_time": "2024-02-28T09:44:55.297512Z",
     "start_time": "2024-02-28T09:44:55.287690Z"
    }
   },
   "outputs": [],
   "source": [
    "tile_orients = solve.tile_orientations(solve.TILE_DEFS)"
   ]
  },
  {
   "cell_type": "code",
   "execution_count": 7,
   "id": "bad34238-e83a-4c91-ad5b-3df89b2bc107",
   "metadata": {
    "ExecuteTime": {
     "end_time": "2024-02-28T09:44:55.916818Z",
     "start_time": "2024-02-28T09:44:55.913206Z"
    }
   },
   "outputs": [
    {
     "name": "stdout",
     "output_type": "stream",
     "text": [
      "GGEEE  F\n",
      "GEEDDFFF\n",
      "GGIIDDJF\n",
      "AII DJJJ\n",
      "AILHHHJK\n",
      "A LLLHKK\n",
      "ABBBLHCK\n",
      "ABBCCCCK\n"
     ]
    }
   ],
   "source": [
    "solve.display_solution(solutions[0], tile_orients, xy_range)"
   ]
  },
  {
   "cell_type": "code",
   "execution_count": 8,
   "id": "866c204e-53ac-4f54-960c-f7e95f544a35",
   "metadata": {
    "ExecuteTime": {
     "end_time": "2024-02-28T09:44:56.636764Z",
     "start_time": "2024-02-28T09:44:56.635014Z"
    }
   },
   "outputs": [
    {
     "name": "stdout",
     "output_type": "stream",
     "text": [
      "CLEEE  I\n",
      "CLLLEEII\n",
      "CGGLFIIK\n",
      "CCG FFFK\n",
      "HGGJFDKK\n",
      "H JJJDDK\n",
      "HHHJDDBB\n",
      "AAAAABBB\n"
     ]
    }
   ],
   "source": [
    "solve.display_solution(solutions[100], tile_orients, xy_range)"
   ]
  },
  {
   "cell_type": "code",
   "execution_count": 9,
   "id": "110b791e-56bf-4db3-a8f1-dc4450eba7bf",
   "metadata": {
    "ExecuteTime": {
     "end_time": "2024-02-28T09:44:57.301895Z",
     "start_time": "2024-02-28T09:44:57.297581Z"
    }
   },
   "outputs": [
    {
     "name": "stdout",
     "output_type": "stream",
     "text": [
      "AAAAA  C\n",
      "HHHDCCCC\n",
      "HEDDDFBB\n",
      "HEI DFBB\n",
      "EEIIFFFB\n",
      "E LIIJGG\n",
      "LLLKJJJG\n",
      "LKKKKJGG\n"
     ]
    }
   ],
   "source": [
    "solve.display_solution(solutions[-1], tile_orients, xy_range)"
   ]
  },
  {
   "cell_type": "code",
   "execution_count": null,
   "id": "209e5694-e7a1-4316-a207-f2c3a78360f5",
   "metadata": {},
   "outputs": [],
   "source": []
  }
 ],
 "metadata": {
  "kernelspec": {
   "display_name": "Python 3 (ipykernel)",
   "language": "python",
   "name": "python3"
  },
  "language_info": {
   "codemirror_mode": {
    "name": "ipython",
    "version": 3
   },
   "file_extension": ".py",
   "mimetype": "text/x-python",
   "name": "python",
   "nbconvert_exporter": "python",
   "pygments_lexer": "ipython3",
   "version": "3.11.2"
  }
 },
 "nbformat": 4,
 "nbformat_minor": 5
}
